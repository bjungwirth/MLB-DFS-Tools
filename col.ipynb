{
 "cells": [
  {
   "cell_type": "code",
   "execution_count": 7,
   "metadata": {},
   "outputs": [],
   "source": [
    "import pandas as pd\n",
    "\n",
    "# Read the CSV file\n",
    "df = pd.read_csv('/Users/jack/GitHub/MLB/dk_data/topstacks.csv')\n",
    "\n",
    "# Rename the columns\n",
    "df.rename(columns={\n",
    "    'Ownership share': 'own%',\n",
    "\n",
    "}, inplace=True)\n",
    "\n",
    "\n",
    "\n",
    "\n",
    "# Save the final dataframe to a new CSV file\n",
    "df.to_csv('/Users/jack/GitHub/MLB/dk_data/topstacks.csv', index=False)\n"
   ]
  }
 ],
 "metadata": {
  "kernelspec": {
   "display_name": "base",
   "language": "python",
   "name": "python3"
  },
  "language_info": {
   "codemirror_mode": {
    "name": "ipython",
    "version": 3
   },
   "file_extension": ".py",
   "mimetype": "text/x-python",
   "name": "python",
   "nbconvert_exporter": "python",
   "pygments_lexer": "ipython3",
   "version": "3.9.13"
  },
  "orig_nbformat": 4
 },
 "nbformat": 4,
 "nbformat_minor": 2
}
